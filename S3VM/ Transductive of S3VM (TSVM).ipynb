{
 "cells": [
  {
   "cell_type": "code",
   "execution_count": 1,
   "id": "40149547",
   "metadata": {},
   "outputs": [],
   "source": [
    "import numpy as np\n",
    "import pandas as pd"
   ]
  },
  {
   "cell_type": "code",
   "execution_count": 2,
   "id": "6fb48d18",
   "metadata": {},
   "outputs": [
    {
     "data": {
      "text/plain": [
       "((192, 15), (192,))"
      ]
     },
     "execution_count": 2,
     "metadata": {},
     "output_type": "execute_result"
    }
   ],
   "source": [
    "# second data is the data were the ICD codes will be labelled by expert/medical rules. \n",
    "# However, we can still use the current ICD until the correct labels have been provided\n",
    "X_train = pd.read_csv('Final_ToBeLabelled(ICD_INCLUDED)_EN.csv', sep='\\t').drop(labels=['ICD','index_exam'], axis =1)\n",
    "y_train = pd.read_csv('Final_ToBeLabelled(ICD_INCLUDED)_EN.csv', sep='\\t')['ICD'].astype('category') # as category \n",
    "X_train.shape, y_train.shape"
   ]
  },
  {
   "cell_type": "code",
   "execution_count": 3,
   "id": "471bfc7d",
   "metadata": {},
   "outputs": [
    {
     "data": {
      "text/plain": [
       "(17174, 15)"
      ]
     },
     "execution_count": 3,
     "metadata": {},
     "output_type": "execute_result"
    }
   ],
   "source": [
    "# first data is the unlabeled data which we will try to predict the ICD codes\n",
    "X_unlab = pd.read_csv('Final_Unlabelled_EN.csv', sep='\\t').drop(labels=['ICD','index_exam'], axis=1)\n",
    "X_unlab.shape"
   ]
  },
  {
   "cell_type": "code",
   "execution_count": 4,
   "id": "bc532c29",
   "metadata": {},
   "outputs": [],
   "source": [
    "# preprocessing on X_train and X_unlab (label encoding)\n",
    "X_train_sex = pd.get_dummies(data=X_train['Weiblich/Männlich'])\n",
    "X_unlab_sex = pd.get_dummies(data=X_unlab['Weiblich/Männlich'])\n",
    "X_train_age = pd.get_dummies(data=X_train['age'])\n",
    "X_unlab_age = pd.get_dummies(data=X_unlab['age'])"
   ]
  },
  {
   "cell_type": "code",
   "execution_count": 5,
   "id": "34cfda02",
   "metadata": {},
   "outputs": [],
   "source": [
    "# drop the UUID, age and sex columns from the data\n",
    "X_unlab.drop(labels=['UUID', 'age','Weiblich/Männlich'], axis=1, inplace=True)\n",
    "X_train.drop(labels=['age','Weiblich/Männlich', 'UUID'],axis=1,inplace=True)"
   ]
  },
  {
   "cell_type": "code",
   "execution_count": 6,
   "id": "dd27c859",
   "metadata": {},
   "outputs": [
    {
     "data": {
      "text/plain": [
       "((192, 12), (192, 8), (192, 2))"
      ]
     },
     "execution_count": 6,
     "metadata": {},
     "output_type": "execute_result"
    }
   ],
   "source": [
    "# shape of the train data\n",
    "X_train.shape,X_train_age.shape,X_train_sex.shape"
   ]
  },
  {
   "cell_type": "code",
   "execution_count": 7,
   "id": "bb6e0996",
   "metadata": {},
   "outputs": [
    {
     "data": {
      "text/plain": [
       "((17174, 12), (17174, 2), (17174, 8))"
      ]
     },
     "execution_count": 7,
     "metadata": {},
     "output_type": "execute_result"
    }
   ],
   "source": [
    "# shape of the unlab\n",
    "X_unlab.shape,X_unlab_sex.shape, X_unlab_age.shape"
   ]
  },
  {
   "cell_type": "code",
   "execution_count": 8,
   "id": "832b347d",
   "metadata": {},
   "outputs": [
    {
     "data": {
      "text/html": [
       "<div>\n",
       "<style scoped>\n",
       "    .dataframe tbody tr th:only-of-type {\n",
       "        vertical-align: middle;\n",
       "    }\n",
       "\n",
       "    .dataframe tbody tr th {\n",
       "        vertical-align: top;\n",
       "    }\n",
       "\n",
       "    .dataframe thead th {\n",
       "        text-align: right;\n",
       "    }\n",
       "</style>\n",
       "<table border=\"1\" class=\"dataframe\">\n",
       "  <thead>\n",
       "    <tr style=\"text-align: right;\">\n",
       "      <th></th>\n",
       "      <th>Grübchenabstand DL-DR [mm]</th>\n",
       "      <th>Rumpflänge VP-DM [mm]</th>\n",
       "      <th>Rumpfneigung VP-DM [°]</th>\n",
       "      <th>Lotabweichung VP-DM [°]</th>\n",
       "      <th>Seitabweichung VP-DM (RMS) [mm]</th>\n",
       "      <th>Oberflächenrotation (RMS) [°]</th>\n",
       "      <th>Kyphosewinkel VP-T12 [°]</th>\n",
       "      <th>Lordosewinkel T12-DM [°]</th>\n",
       "      <th>Beckenneigung (Symmetrielinie) [°]</th>\n",
       "      <th>Beckentorsion DL-DR [°]</th>\n",
       "      <th>Beckenhochstand [°]</th>\n",
       "      <th>Beckenrotation [°]</th>\n",
       "    </tr>\n",
       "  </thead>\n",
       "  <tbody>\n",
       "    <tr>\n",
       "      <th>122</th>\n",
       "      <td>102.0</td>\n",
       "      <td>476.3</td>\n",
       "      <td>7.7</td>\n",
       "      <td>1.9</td>\n",
       "      <td>2.5</td>\n",
       "      <td>3.794401</td>\n",
       "      <td>45.4</td>\n",
       "      <td>39.8</td>\n",
       "      <td>29.8</td>\n",
       "      <td>0.9</td>\n",
       "      <td>-0.3</td>\n",
       "      <td>2.2</td>\n",
       "    </tr>\n",
       "    <tr>\n",
       "      <th>24</th>\n",
       "      <td>84.0</td>\n",
       "      <td>416.6</td>\n",
       "      <td>4.8</td>\n",
       "      <td>-1.9</td>\n",
       "      <td>6.1</td>\n",
       "      <td>6.384217</td>\n",
       "      <td>43.8</td>\n",
       "      <td>42.8</td>\n",
       "      <td>29.8</td>\n",
       "      <td>-2.1</td>\n",
       "      <td>-1.3</td>\n",
       "      <td>1.3</td>\n",
       "    </tr>\n",
       "    <tr>\n",
       "      <th>32</th>\n",
       "      <td>99.0</td>\n",
       "      <td>489.9</td>\n",
       "      <td>4.7</td>\n",
       "      <td>0.3</td>\n",
       "      <td>4.4</td>\n",
       "      <td>3.970195</td>\n",
       "      <td>53.2</td>\n",
       "      <td>29.4</td>\n",
       "      <td>17.2</td>\n",
       "      <td>1.0</td>\n",
       "      <td>-2.7</td>\n",
       "      <td>-0.2</td>\n",
       "    </tr>\n",
       "  </tbody>\n",
       "</table>\n",
       "</div>"
      ],
      "text/plain": [
       "     Grübchenabstand DL-DR [mm]  Rumpflänge VP-DM [mm]  \\\n",
       "122                       102.0                  476.3   \n",
       "24                         84.0                  416.6   \n",
       "32                         99.0                  489.9   \n",
       "\n",
       "     Rumpfneigung VP-DM [°]  Lotabweichung VP-DM [°]  \\\n",
       "122                     7.7                      1.9   \n",
       "24                      4.8                     -1.9   \n",
       "32                      4.7                      0.3   \n",
       "\n",
       "     Seitabweichung VP-DM (RMS) [mm]  Oberflächenrotation (RMS) [°]  \\\n",
       "122                              2.5                       3.794401   \n",
       "24                               6.1                       6.384217   \n",
       "32                               4.4                       3.970195   \n",
       "\n",
       "     Kyphosewinkel VP-T12 [°]  Lordosewinkel T12-DM [°]  \\\n",
       "122                      45.4                      39.8   \n",
       "24                       43.8                      42.8   \n",
       "32                       53.2                      29.4   \n",
       "\n",
       "     Beckenneigung (Symmetrielinie) [°]  Beckentorsion DL-DR [°]  \\\n",
       "122                                29.8                      0.9   \n",
       "24                                 29.8                     -2.1   \n",
       "32                                 17.2                      1.0   \n",
       "\n",
       "     Beckenhochstand [°]  Beckenrotation [°]  \n",
       "122                 -0.3                 2.2  \n",
       "24                  -1.3                 1.3  \n",
       "32                  -2.7                -0.2  "
      ]
     },
     "execution_count": 8,
     "metadata": {},
     "output_type": "execute_result"
    }
   ],
   "source": [
    "X_train.sample(3)"
   ]
  },
  {
   "cell_type": "code",
   "execution_count": 9,
   "id": "1ddd8ac2",
   "metadata": {},
   "outputs": [
    {
     "data": {
      "text/html": [
       "<div>\n",
       "<style scoped>\n",
       "    .dataframe tbody tr th:only-of-type {\n",
       "        vertical-align: middle;\n",
       "    }\n",
       "\n",
       "    .dataframe tbody tr th {\n",
       "        vertical-align: top;\n",
       "    }\n",
       "\n",
       "    .dataframe thead th {\n",
       "        text-align: right;\n",
       "    }\n",
       "</style>\n",
       "<table border=\"1\" class=\"dataframe\">\n",
       "  <thead>\n",
       "    <tr style=\"text-align: right;\">\n",
       "      <th></th>\n",
       "      <th>Grübchenabstand DL-DR [mm]</th>\n",
       "      <th>Rumpflänge VP-DM [mm]</th>\n",
       "      <th>Rumpfneigung VP-DM [°]</th>\n",
       "      <th>Lotabweichung VP-DM [°]</th>\n",
       "      <th>Seitabweichung VP-DM (RMS) [mm]</th>\n",
       "      <th>Oberflächenrotation (RMS) [°]</th>\n",
       "      <th>Kyphosewinkel VP-T12 [°]</th>\n",
       "      <th>Lordosewinkel T12-DM [°]</th>\n",
       "      <th>Beckenneigung (Symmetrielinie) [°]</th>\n",
       "      <th>Beckentorsion DL-DR [°]</th>\n",
       "      <th>Beckenhochstand [°]</th>\n",
       "      <th>Beckenrotation [°]</th>\n",
       "    </tr>\n",
       "  </thead>\n",
       "  <tbody>\n",
       "    <tr>\n",
       "      <th>17171</th>\n",
       "      <td>92.6</td>\n",
       "      <td>491.2</td>\n",
       "      <td>10.2</td>\n",
       "      <td>-1.3</td>\n",
       "      <td>2.8</td>\n",
       "      <td>1.467610</td>\n",
       "      <td>29.0</td>\n",
       "      <td>2.4</td>\n",
       "      <td>3.1</td>\n",
       "      <td>-0.6</td>\n",
       "      <td>0.2</td>\n",
       "      <td>1.6</td>\n",
       "    </tr>\n",
       "    <tr>\n",
       "      <th>8606</th>\n",
       "      <td>87.4</td>\n",
       "      <td>478.0</td>\n",
       "      <td>6.0</td>\n",
       "      <td>-0.8</td>\n",
       "      <td>3.3</td>\n",
       "      <td>5.764056</td>\n",
       "      <td>27.7</td>\n",
       "      <td>19.6</td>\n",
       "      <td>15.1</td>\n",
       "      <td>-2.4</td>\n",
       "      <td>-1.5</td>\n",
       "      <td>6.6</td>\n",
       "    </tr>\n",
       "    <tr>\n",
       "      <th>11521</th>\n",
       "      <td>89.7</td>\n",
       "      <td>426.4</td>\n",
       "      <td>4.1</td>\n",
       "      <td>0.3</td>\n",
       "      <td>2.3</td>\n",
       "      <td>4.455964</td>\n",
       "      <td>56.3</td>\n",
       "      <td>29.3</td>\n",
       "      <td>16.2</td>\n",
       "      <td>1.5</td>\n",
       "      <td>-1.8</td>\n",
       "      <td>-3.3</td>\n",
       "    </tr>\n",
       "  </tbody>\n",
       "</table>\n",
       "</div>"
      ],
      "text/plain": [
       "       Grübchenabstand DL-DR [mm]  Rumpflänge VP-DM [mm]  \\\n",
       "17171                        92.6                  491.2   \n",
       "8606                         87.4                  478.0   \n",
       "11521                        89.7                  426.4   \n",
       "\n",
       "       Rumpfneigung VP-DM [°]  Lotabweichung VP-DM [°]  \\\n",
       "17171                    10.2                     -1.3   \n",
       "8606                      6.0                     -0.8   \n",
       "11521                     4.1                      0.3   \n",
       "\n",
       "       Seitabweichung VP-DM (RMS) [mm]  Oberflächenrotation (RMS) [°]  \\\n",
       "17171                              2.8                       1.467610   \n",
       "8606                               3.3                       5.764056   \n",
       "11521                              2.3                       4.455964   \n",
       "\n",
       "       Kyphosewinkel VP-T12 [°]  Lordosewinkel T12-DM [°]  \\\n",
       "17171                      29.0                       2.4   \n",
       "8606                       27.7                      19.6   \n",
       "11521                      56.3                      29.3   \n",
       "\n",
       "       Beckenneigung (Symmetrielinie) [°]  Beckentorsion DL-DR [°]  \\\n",
       "17171                                 3.1                     -0.6   \n",
       "8606                                 15.1                     -2.4   \n",
       "11521                                16.2                      1.5   \n",
       "\n",
       "       Beckenhochstand [°]  Beckenrotation [°]  \n",
       "17171                  0.2                 1.6  \n",
       "8606                  -1.5                 6.6  \n",
       "11521                 -1.8                -3.3  "
      ]
     },
     "execution_count": 9,
     "metadata": {},
     "output_type": "execute_result"
    }
   ],
   "source": [
    "X_unlab.sample(3)"
   ]
  },
  {
   "cell_type": "code",
   "execution_count": 10,
   "id": "cf075997",
   "metadata": {},
   "outputs": [
    {
     "name": "stdout",
     "output_type": "stream",
     "text": [
      "<class 'pandas.core.frame.DataFrame'>\n",
      "RangeIndex: 192 entries, 0 to 191\n",
      "Data columns (total 22 columns):\n",
      " #   Column                              Non-Null Count  Dtype  \n",
      "---  ------                              --------------  -----  \n",
      " 0   F                                   192 non-null    float64\n",
      " 1   M                                   192 non-null    float64\n",
      " 2   (1, 15]                             192 non-null    float64\n",
      " 3   (15, 20]                            192 non-null    float64\n",
      " 4   (20, 30]                            192 non-null    float64\n",
      " 5   (30, 40]                            192 non-null    float64\n",
      " 6   (40, 50]                            192 non-null    float64\n",
      " 7   (50, 60]                            192 non-null    float64\n",
      " 8   (60, 70]                            192 non-null    float64\n",
      " 9   (70, 150]                           192 non-null    float64\n",
      " 10  Grübchenabstand DL-DR [mm]          192 non-null    float64\n",
      " 11  Rumpflänge VP-DM [mm]               192 non-null    float64\n",
      " 12  Rumpfneigung VP-DM [°]              192 non-null    float64\n",
      " 13  Lotabweichung VP-DM [°]             192 non-null    float64\n",
      " 14  Seitabweichung VP-DM (RMS) [mm]     192 non-null    float64\n",
      " 15  Oberflächenrotation (RMS) [°]       192 non-null    float64\n",
      " 16  Kyphosewinkel VP-T12 [°]            192 non-null    float64\n",
      " 17  Lordosewinkel T12-DM [°]            192 non-null    float64\n",
      " 18  Beckenneigung (Symmetrielinie) [°]  192 non-null    float64\n",
      " 19  Beckentorsion DL-DR [°]             192 non-null    float64\n",
      " 20  Beckenhochstand [°]                 192 non-null    float64\n",
      " 21  Beckenrotation [°]                  192 non-null    float64\n",
      "dtypes: float64(22)\n",
      "memory usage: 33.1 KB\n"
     ]
    }
   ],
   "source": [
    "# after the preprocessing,instantiate call it X_train_p\n",
    "X_train_p = pd.concat([X_train_sex,X_train_age,X_train],axis=1).astype('float')\n",
    "X_train_p.info()"
   ]
  },
  {
   "cell_type": "code",
   "execution_count": 11,
   "id": "9efbe8d3",
   "metadata": {},
   "outputs": [
    {
     "name": "stdout",
     "output_type": "stream",
     "text": [
      "<class 'pandas.core.frame.DataFrame'>\n",
      "RangeIndex: 17174 entries, 0 to 17173\n",
      "Data columns (total 22 columns):\n",
      " #   Column                              Non-Null Count  Dtype  \n",
      "---  ------                              --------------  -----  \n",
      " 0   F                                   17174 non-null  float64\n",
      " 1   M                                   17174 non-null  float64\n",
      " 2   (1, 15]                             17174 non-null  float64\n",
      " 3   (15, 20]                            17174 non-null  float64\n",
      " 4   (20, 30]                            17174 non-null  float64\n",
      " 5   (30, 40]                            17174 non-null  float64\n",
      " 6   (40, 50]                            17174 non-null  float64\n",
      " 7   (50, 60]                            17174 non-null  float64\n",
      " 8   (60, 70]                            17174 non-null  float64\n",
      " 9   (70, 150]                           17174 non-null  float64\n",
      " 10  Grübchenabstand DL-DR [mm]          17174 non-null  float64\n",
      " 11  Rumpflänge VP-DM [mm]               17174 non-null  float64\n",
      " 12  Rumpfneigung VP-DM [°]              17174 non-null  float64\n",
      " 13  Lotabweichung VP-DM [°]             17174 non-null  float64\n",
      " 14  Seitabweichung VP-DM (RMS) [mm]     17174 non-null  float64\n",
      " 15  Oberflächenrotation (RMS) [°]       17174 non-null  float64\n",
      " 16  Kyphosewinkel VP-T12 [°]            17174 non-null  float64\n",
      " 17  Lordosewinkel T12-DM [°]            17174 non-null  float64\n",
      " 18  Beckenneigung (Symmetrielinie) [°]  17174 non-null  float64\n",
      " 19  Beckentorsion DL-DR [°]             17174 non-null  float64\n",
      " 20  Beckenhochstand [°]                 17174 non-null  float64\n",
      " 21  Beckenrotation [°]                  17174 non-null  float64\n",
      "dtypes: float64(22)\n",
      "memory usage: 2.9 MB\n"
     ]
    }
   ],
   "source": [
    "# after the preprocessing,instantiate call it X_unlab_p\n",
    "X_unlab_p = pd.concat([X_unlab_sex,X_unlab_age,X_unlab],axis=1).astype('float')\n",
    "X_unlab_p.info()"
   ]
  },
  {
   "cell_type": "code",
   "execution_count": 12,
   "id": "a0ad0120",
   "metadata": {},
   "outputs": [],
   "source": [
    "# which of the model do you want to start with first, SVM or Graph?\n",
    "# Using the Transductive Support Machine (S3VM)\n",
    "from sklearn.svm import SVC\n",
    "from sklearn.semi_supervised import LabelPropagation, SelfTrainingClassifier\n",
    "# '''\n",
    "# Self-training classifier.\n",
    "\n",
    "# This class allows a given supervised classifier to function as a\n",
    "# semi-supervised classifier, allowing it to learn from unlabeled data. It\n",
    "# does this by iteratively predicting pseudo-labels for the unlabeled data\n",
    "# and adding them to the training set.\n",
    "\n",
    "# '''"
   ]
  },
  {
   "cell_type": "code",
   "execution_count": 13,
   "id": "b2d419a2",
   "metadata": {},
   "outputs": [],
   "source": [
    "# using the Self Learning Framework\n",
    "base_model = SVC()\n",
    "ssmodel = SelfTrainingClassifier(base_estimator=base_model)"
   ]
  },
  {
   "cell_type": "code",
   "execution_count": 14,
   "id": "cc0fde1f",
   "metadata": {},
   "outputs": [],
   "source": [
    "import warnings\n",
    "warnings.filterwarnings('ignore')"
   ]
  },
  {
   "cell_type": "code",
   "execution_count": 15,
   "id": "1788bf52",
   "metadata": {},
   "outputs": [
    {
     "data": {
      "text/plain": [
       "SelfTrainingClassifier(base_estimator=SVC())"
      ]
     },
     "execution_count": 15,
     "metadata": {},
     "output_type": "execute_result"
    }
   ],
   "source": [
    "# Training on the label sets\n",
    "ssmodel.fit(X_train_p,y_train)"
   ]
  },
  {
   "cell_type": "code",
   "execution_count": 16,
   "id": "f1ec8950",
   "metadata": {},
   "outputs": [
    {
     "data": {
      "text/plain": [
       "1.0"
      ]
     },
     "execution_count": 16,
     "metadata": {},
     "output_type": "execute_result"
    }
   ],
   "source": [
    "# Score of the label sets\n",
    "ssmodel.score(X_train_p,y_train)"
   ]
  },
  {
   "cell_type": "code",
   "execution_count": 17,
   "id": "c5e9bdac",
   "metadata": {},
   "outputs": [
    {
     "data": {
      "text/plain": [
       "array(['M99.04', 'M54.90', 'M22.4', 'M92.5', 'M62.08', 'Q65.8', 'M48.06',\n",
       "       'M19.98', 'M85.89', 'M47.89'], dtype=object)"
      ]
     },
     "execution_count": 17,
     "metadata": {},
     "output_type": "execute_result"
    }
   ],
   "source": [
    "# Predict on Unlabeled dataset after the trainning\n",
    "label_as = ssmodel.predict(X_unlab_p)\n",
    "label_as[:10]"
   ]
  },
  {
   "cell_type": "code",
   "execution_count": null,
   "id": "756f9852",
   "metadata": {},
   "outputs": [],
   "source": []
  },
  {
   "cell_type": "code",
   "execution_count": 18,
   "id": "47606dcd",
   "metadata": {},
   "outputs": [
    {
     "data": {
      "text/html": [
       "<div>\n",
       "<style scoped>\n",
       "    .dataframe tbody tr th:only-of-type {\n",
       "        vertical-align: middle;\n",
       "    }\n",
       "\n",
       "    .dataframe tbody tr th {\n",
       "        vertical-align: top;\n",
       "    }\n",
       "\n",
       "    .dataframe thead th {\n",
       "        text-align: right;\n",
       "    }\n",
       "</style>\n",
       "<table border=\"1\" class=\"dataframe\">\n",
       "  <thead>\n",
       "    <tr style=\"text-align: right;\">\n",
       "      <th></th>\n",
       "      <th>F</th>\n",
       "      <th>M</th>\n",
       "      <th>(1, 15]</th>\n",
       "      <th>(15, 20]</th>\n",
       "      <th>(20, 30]</th>\n",
       "      <th>(30, 40]</th>\n",
       "      <th>(40, 50]</th>\n",
       "      <th>(50, 60]</th>\n",
       "      <th>(60, 70]</th>\n",
       "      <th>(70, 150]</th>\n",
       "      <th>...</th>\n",
       "      <th>Lotabweichung VP-DM [°]</th>\n",
       "      <th>Seitabweichung VP-DM (RMS) [mm]</th>\n",
       "      <th>Oberflächenrotation (RMS) [°]</th>\n",
       "      <th>Kyphosewinkel VP-T12 [°]</th>\n",
       "      <th>Lordosewinkel T12-DM [°]</th>\n",
       "      <th>Beckenneigung (Symmetrielinie) [°]</th>\n",
       "      <th>Beckentorsion DL-DR [°]</th>\n",
       "      <th>Beckenhochstand [°]</th>\n",
       "      <th>Beckenrotation [°]</th>\n",
       "      <th>ICD</th>\n",
       "    </tr>\n",
       "  </thead>\n",
       "  <tbody>\n",
       "    <tr>\n",
       "      <th>6514</th>\n",
       "      <td>0.0</td>\n",
       "      <td>1.0</td>\n",
       "      <td>0.0</td>\n",
       "      <td>0.0</td>\n",
       "      <td>1.0</td>\n",
       "      <td>0.0</td>\n",
       "      <td>0.0</td>\n",
       "      <td>0.0</td>\n",
       "      <td>0.0</td>\n",
       "      <td>0.0</td>\n",
       "      <td>...</td>\n",
       "      <td>0.2</td>\n",
       "      <td>4.1</td>\n",
       "      <td>4.185096</td>\n",
       "      <td>42.8</td>\n",
       "      <td>26.5</td>\n",
       "      <td>11.5</td>\n",
       "      <td>3.0</td>\n",
       "      <td>-3.0</td>\n",
       "      <td>7.6</td>\n",
       "      <td>M25.5-</td>\n",
       "    </tr>\n",
       "    <tr>\n",
       "      <th>5938</th>\n",
       "      <td>1.0</td>\n",
       "      <td>0.0</td>\n",
       "      <td>0.0</td>\n",
       "      <td>0.0</td>\n",
       "      <td>0.0</td>\n",
       "      <td>0.0</td>\n",
       "      <td>0.0</td>\n",
       "      <td>1.0</td>\n",
       "      <td>0.0</td>\n",
       "      <td>0.0</td>\n",
       "      <td>...</td>\n",
       "      <td>2.4</td>\n",
       "      <td>7.9</td>\n",
       "      <td>3.137411</td>\n",
       "      <td>49.4</td>\n",
       "      <td>40.3</td>\n",
       "      <td>30.9</td>\n",
       "      <td>-2.0</td>\n",
       "      <td>7.9</td>\n",
       "      <td>4.5</td>\n",
       "      <td>M72.2</td>\n",
       "    </tr>\n",
       "    <tr>\n",
       "      <th>9741</th>\n",
       "      <td>1.0</td>\n",
       "      <td>0.0</td>\n",
       "      <td>0.0</td>\n",
       "      <td>0.0</td>\n",
       "      <td>0.0</td>\n",
       "      <td>0.0</td>\n",
       "      <td>0.0</td>\n",
       "      <td>0.0</td>\n",
       "      <td>1.0</td>\n",
       "      <td>0.0</td>\n",
       "      <td>...</td>\n",
       "      <td>1.8</td>\n",
       "      <td>2.7</td>\n",
       "      <td>0.859940</td>\n",
       "      <td>44.7</td>\n",
       "      <td>51.1</td>\n",
       "      <td>38.1</td>\n",
       "      <td>2.6</td>\n",
       "      <td>-5.1</td>\n",
       "      <td>-1.6</td>\n",
       "      <td>M42.96</td>\n",
       "    </tr>\n",
       "    <tr>\n",
       "      <th>7811</th>\n",
       "      <td>1.0</td>\n",
       "      <td>0.0</td>\n",
       "      <td>1.0</td>\n",
       "      <td>0.0</td>\n",
       "      <td>0.0</td>\n",
       "      <td>0.0</td>\n",
       "      <td>0.0</td>\n",
       "      <td>0.0</td>\n",
       "      <td>0.0</td>\n",
       "      <td>0.0</td>\n",
       "      <td>...</td>\n",
       "      <td>1.3</td>\n",
       "      <td>3.5</td>\n",
       "      <td>1.846371</td>\n",
       "      <td>49.1</td>\n",
       "      <td>34.2</td>\n",
       "      <td>20.6</td>\n",
       "      <td>2.2</td>\n",
       "      <td>4.5</td>\n",
       "      <td>0.1</td>\n",
       "      <td>Q67.6</td>\n",
       "    </tr>\n",
       "    <tr>\n",
       "      <th>13248</th>\n",
       "      <td>0.0</td>\n",
       "      <td>1.0</td>\n",
       "      <td>0.0</td>\n",
       "      <td>0.0</td>\n",
       "      <td>0.0</td>\n",
       "      <td>0.0</td>\n",
       "      <td>0.0</td>\n",
       "      <td>0.0</td>\n",
       "      <td>1.0</td>\n",
       "      <td>0.0</td>\n",
       "      <td>...</td>\n",
       "      <td>-1.3</td>\n",
       "      <td>13.1</td>\n",
       "      <td>3.540244</td>\n",
       "      <td>55.0</td>\n",
       "      <td>37.3</td>\n",
       "      <td>20.8</td>\n",
       "      <td>1.0</td>\n",
       "      <td>-2.5</td>\n",
       "      <td>5.2</td>\n",
       "      <td>M40.05</td>\n",
       "    </tr>\n",
       "    <tr>\n",
       "      <th>6876</th>\n",
       "      <td>0.0</td>\n",
       "      <td>1.0</td>\n",
       "      <td>0.0</td>\n",
       "      <td>0.0</td>\n",
       "      <td>0.0</td>\n",
       "      <td>1.0</td>\n",
       "      <td>0.0</td>\n",
       "      <td>0.0</td>\n",
       "      <td>0.0</td>\n",
       "      <td>0.0</td>\n",
       "      <td>...</td>\n",
       "      <td>-1.0</td>\n",
       "      <td>1.4</td>\n",
       "      <td>0.891056</td>\n",
       "      <td>44.4</td>\n",
       "      <td>36.7</td>\n",
       "      <td>18.5</td>\n",
       "      <td>4.1</td>\n",
       "      <td>1.3</td>\n",
       "      <td>-1.3</td>\n",
       "      <td>M21.17</td>\n",
       "    </tr>\n",
       "  </tbody>\n",
       "</table>\n",
       "<p>6 rows × 23 columns</p>\n",
       "</div>"
      ],
      "text/plain": [
       "         F    M  (1, 15]  (15, 20]  (20, 30]  (30, 40]  (40, 50]  (50, 60]  \\\n",
       "6514   0.0  1.0      0.0       0.0       1.0       0.0       0.0       0.0   \n",
       "5938   1.0  0.0      0.0       0.0       0.0       0.0       0.0       1.0   \n",
       "9741   1.0  0.0      0.0       0.0       0.0       0.0       0.0       0.0   \n",
       "7811   1.0  0.0      1.0       0.0       0.0       0.0       0.0       0.0   \n",
       "13248  0.0  1.0      0.0       0.0       0.0       0.0       0.0       0.0   \n",
       "6876   0.0  1.0      0.0       0.0       0.0       1.0       0.0       0.0   \n",
       "\n",
       "       (60, 70]  (70, 150]  ...  Lotabweichung VP-DM [°]  \\\n",
       "6514        0.0        0.0  ...                      0.2   \n",
       "5938        0.0        0.0  ...                      2.4   \n",
       "9741        1.0        0.0  ...                      1.8   \n",
       "7811        0.0        0.0  ...                      1.3   \n",
       "13248       1.0        0.0  ...                     -1.3   \n",
       "6876        0.0        0.0  ...                     -1.0   \n",
       "\n",
       "       Seitabweichung VP-DM (RMS) [mm]  Oberflächenrotation (RMS) [°]  \\\n",
       "6514                               4.1                       4.185096   \n",
       "5938                               7.9                       3.137411   \n",
       "9741                               2.7                       0.859940   \n",
       "7811                               3.5                       1.846371   \n",
       "13248                             13.1                       3.540244   \n",
       "6876                               1.4                       0.891056   \n",
       "\n",
       "       Kyphosewinkel VP-T12 [°]  Lordosewinkel T12-DM [°]  \\\n",
       "6514                       42.8                      26.5   \n",
       "5938                       49.4                      40.3   \n",
       "9741                       44.7                      51.1   \n",
       "7811                       49.1                      34.2   \n",
       "13248                      55.0                      37.3   \n",
       "6876                       44.4                      36.7   \n",
       "\n",
       "       Beckenneigung (Symmetrielinie) [°]  Beckentorsion DL-DR [°]  \\\n",
       "6514                                 11.5                      3.0   \n",
       "5938                                 30.9                     -2.0   \n",
       "9741                                 38.1                      2.6   \n",
       "7811                                 20.6                      2.2   \n",
       "13248                                20.8                      1.0   \n",
       "6876                                 18.5                      4.1   \n",
       "\n",
       "       Beckenhochstand [°]  Beckenrotation [°]     ICD  \n",
       "6514                  -3.0                 7.6  M25.5-  \n",
       "5938                   7.9                 4.5   M72.2  \n",
       "9741                  -5.1                -1.6  M42.96  \n",
       "7811                   4.5                 0.1   Q67.6  \n",
       "13248                 -2.5                 5.2  M40.05  \n",
       "6876                   1.3                -1.3  M21.17  \n",
       "\n",
       "[6 rows x 23 columns]"
      ]
     },
     "execution_count": 18,
     "metadata": {},
     "output_type": "execute_result"
    }
   ],
   "source": [
    "# Our newly labeled dataset\n",
    "new_label = pd.concat([X_unlab_p,pd.DataFrame(data=label_as,columns=['ICD'])], axis=1)\n",
    "new_label.sample(6)"
   ]
  },
  {
   "cell_type": "code",
   "execution_count": 19,
   "id": "0cfb15b9",
   "metadata": {},
   "outputs": [
    {
     "data": {
      "text/html": [
       "<div>\n",
       "<style scoped>\n",
       "    .dataframe tbody tr th:only-of-type {\n",
       "        vertical-align: middle;\n",
       "    }\n",
       "\n",
       "    .dataframe tbody tr th {\n",
       "        vertical-align: top;\n",
       "    }\n",
       "\n",
       "    .dataframe thead th {\n",
       "        text-align: right;\n",
       "    }\n",
       "</style>\n",
       "<table border=\"1\" class=\"dataframe\">\n",
       "  <thead>\n",
       "    <tr style=\"text-align: right;\">\n",
       "      <th></th>\n",
       "      <th>F</th>\n",
       "      <th>M</th>\n",
       "      <th>(1, 15]</th>\n",
       "      <th>(15, 20]</th>\n",
       "      <th>(20, 30]</th>\n",
       "      <th>(30, 40]</th>\n",
       "      <th>(40, 50]</th>\n",
       "      <th>(50, 60]</th>\n",
       "      <th>(60, 70]</th>\n",
       "      <th>(70, 150]</th>\n",
       "      <th>...</th>\n",
       "      <th>Lotabweichung VP-DM [°]</th>\n",
       "      <th>Seitabweichung VP-DM (RMS) [mm]</th>\n",
       "      <th>Oberflächenrotation (RMS) [°]</th>\n",
       "      <th>Kyphosewinkel VP-T12 [°]</th>\n",
       "      <th>Lordosewinkel T12-DM [°]</th>\n",
       "      <th>Beckenneigung (Symmetrielinie) [°]</th>\n",
       "      <th>Beckentorsion DL-DR [°]</th>\n",
       "      <th>Beckenhochstand [°]</th>\n",
       "      <th>Beckenrotation [°]</th>\n",
       "      <th>ICD</th>\n",
       "    </tr>\n",
       "  </thead>\n",
       "  <tbody>\n",
       "    <tr>\n",
       "      <th>54</th>\n",
       "      <td>0.0</td>\n",
       "      <td>1.0</td>\n",
       "      <td>0.0</td>\n",
       "      <td>0.0</td>\n",
       "      <td>0.0</td>\n",
       "      <td>0.0</td>\n",
       "      <td>0.0</td>\n",
       "      <td>0.0</td>\n",
       "      <td>1.0</td>\n",
       "      <td>0.0</td>\n",
       "      <td>...</td>\n",
       "      <td>0.0</td>\n",
       "      <td>11.1</td>\n",
       "      <td>5.016658</td>\n",
       "      <td>35.7</td>\n",
       "      <td>34.3</td>\n",
       "      <td>34.2</td>\n",
       "      <td>-0.7</td>\n",
       "      <td>0.2</td>\n",
       "      <td>-4.0</td>\n",
       "      <td>M47.26</td>\n",
       "    </tr>\n",
       "    <tr>\n",
       "      <th>74</th>\n",
       "      <td>1.0</td>\n",
       "      <td>0.0</td>\n",
       "      <td>1.0</td>\n",
       "      <td>0.0</td>\n",
       "      <td>0.0</td>\n",
       "      <td>0.0</td>\n",
       "      <td>0.0</td>\n",
       "      <td>0.0</td>\n",
       "      <td>0.0</td>\n",
       "      <td>0.0</td>\n",
       "      <td>...</td>\n",
       "      <td>1.4</td>\n",
       "      <td>5.0</td>\n",
       "      <td>3.719479</td>\n",
       "      <td>33.7</td>\n",
       "      <td>33.3</td>\n",
       "      <td>23.9</td>\n",
       "      <td>1.2</td>\n",
       "      <td>4.2</td>\n",
       "      <td>-0.1</td>\n",
       "      <td>M21.61</td>\n",
       "    </tr>\n",
       "    <tr>\n",
       "      <th>13</th>\n",
       "      <td>1.0</td>\n",
       "      <td>0.0</td>\n",
       "      <td>0.0</td>\n",
       "      <td>0.0</td>\n",
       "      <td>0.0</td>\n",
       "      <td>0.0</td>\n",
       "      <td>0.0</td>\n",
       "      <td>0.0</td>\n",
       "      <td>1.0</td>\n",
       "      <td>0.0</td>\n",
       "      <td>...</td>\n",
       "      <td>1.6</td>\n",
       "      <td>3.5</td>\n",
       "      <td>2.797480</td>\n",
       "      <td>59.4</td>\n",
       "      <td>52.8</td>\n",
       "      <td>34.3</td>\n",
       "      <td>1.2</td>\n",
       "      <td>2.7</td>\n",
       "      <td>2.3</td>\n",
       "      <td>M23.22</td>\n",
       "    </tr>\n",
       "    <tr>\n",
       "      <th>160</th>\n",
       "      <td>0.0</td>\n",
       "      <td>1.0</td>\n",
       "      <td>0.0</td>\n",
       "      <td>0.0</td>\n",
       "      <td>1.0</td>\n",
       "      <td>0.0</td>\n",
       "      <td>0.0</td>\n",
       "      <td>0.0</td>\n",
       "      <td>0.0</td>\n",
       "      <td>0.0</td>\n",
       "      <td>...</td>\n",
       "      <td>0.0</td>\n",
       "      <td>5.0</td>\n",
       "      <td>2.847126</td>\n",
       "      <td>51.1</td>\n",
       "      <td>32.3</td>\n",
       "      <td>17.2</td>\n",
       "      <td>-0.8</td>\n",
       "      <td>0.0</td>\n",
       "      <td>1.8</td>\n",
       "      <td>M40.49</td>\n",
       "    </tr>\n",
       "    <tr>\n",
       "      <th>56</th>\n",
       "      <td>0.0</td>\n",
       "      <td>1.0</td>\n",
       "      <td>0.0</td>\n",
       "      <td>0.0</td>\n",
       "      <td>0.0</td>\n",
       "      <td>0.0</td>\n",
       "      <td>1.0</td>\n",
       "      <td>0.0</td>\n",
       "      <td>0.0</td>\n",
       "      <td>0.0</td>\n",
       "      <td>...</td>\n",
       "      <td>-0.9</td>\n",
       "      <td>4.8</td>\n",
       "      <td>2.066514</td>\n",
       "      <td>43.7</td>\n",
       "      <td>25.4</td>\n",
       "      <td>11.8</td>\n",
       "      <td>2.5</td>\n",
       "      <td>-2.7</td>\n",
       "      <td>4.3</td>\n",
       "      <td>M94.26</td>\n",
       "    </tr>\n",
       "    <tr>\n",
       "      <th>171</th>\n",
       "      <td>0.0</td>\n",
       "      <td>1.0</td>\n",
       "      <td>1.0</td>\n",
       "      <td>0.0</td>\n",
       "      <td>0.0</td>\n",
       "      <td>0.0</td>\n",
       "      <td>0.0</td>\n",
       "      <td>0.0</td>\n",
       "      <td>0.0</td>\n",
       "      <td>0.0</td>\n",
       "      <td>...</td>\n",
       "      <td>-1.6</td>\n",
       "      <td>5.9</td>\n",
       "      <td>7.119738</td>\n",
       "      <td>36.6</td>\n",
       "      <td>32.0</td>\n",
       "      <td>13.4</td>\n",
       "      <td>6.5</td>\n",
       "      <td>-10.6</td>\n",
       "      <td>3.1</td>\n",
       "      <td>M99.95</td>\n",
       "    </tr>\n",
       "  </tbody>\n",
       "</table>\n",
       "<p>6 rows × 23 columns</p>\n",
       "</div>"
      ],
      "text/plain": [
       "       F    M  (1, 15]  (15, 20]  (20, 30]  (30, 40]  (40, 50]  (50, 60]  \\\n",
       "54   0.0  1.0      0.0       0.0       0.0       0.0       0.0       0.0   \n",
       "74   1.0  0.0      1.0       0.0       0.0       0.0       0.0       0.0   \n",
       "13   1.0  0.0      0.0       0.0       0.0       0.0       0.0       0.0   \n",
       "160  0.0  1.0      0.0       0.0       1.0       0.0       0.0       0.0   \n",
       "56   0.0  1.0      0.0       0.0       0.0       0.0       1.0       0.0   \n",
       "171  0.0  1.0      1.0       0.0       0.0       0.0       0.0       0.0   \n",
       "\n",
       "     (60, 70]  (70, 150]  ...  Lotabweichung VP-DM [°]  \\\n",
       "54        1.0        0.0  ...                      0.0   \n",
       "74        0.0        0.0  ...                      1.4   \n",
       "13        1.0        0.0  ...                      1.6   \n",
       "160       0.0        0.0  ...                      0.0   \n",
       "56        0.0        0.0  ...                     -0.9   \n",
       "171       0.0        0.0  ...                     -1.6   \n",
       "\n",
       "     Seitabweichung VP-DM (RMS) [mm]  Oberflächenrotation (RMS) [°]  \\\n",
       "54                              11.1                       5.016658   \n",
       "74                               5.0                       3.719479   \n",
       "13                               3.5                       2.797480   \n",
       "160                              5.0                       2.847126   \n",
       "56                               4.8                       2.066514   \n",
       "171                              5.9                       7.119738   \n",
       "\n",
       "     Kyphosewinkel VP-T12 [°]  Lordosewinkel T12-DM [°]  \\\n",
       "54                       35.7                      34.3   \n",
       "74                       33.7                      33.3   \n",
       "13                       59.4                      52.8   \n",
       "160                      51.1                      32.3   \n",
       "56                       43.7                      25.4   \n",
       "171                      36.6                      32.0   \n",
       "\n",
       "     Beckenneigung (Symmetrielinie) [°]  Beckentorsion DL-DR [°]  \\\n",
       "54                                 34.2                     -0.7   \n",
       "74                                 23.9                      1.2   \n",
       "13                                 34.3                      1.2   \n",
       "160                                17.2                     -0.8   \n",
       "56                                 11.8                      2.5   \n",
       "171                                13.4                      6.5   \n",
       "\n",
       "     Beckenhochstand [°]  Beckenrotation [°]     ICD  \n",
       "54                   0.2                -4.0  M47.26  \n",
       "74                   4.2                -0.1  M21.61  \n",
       "13                   2.7                 2.3  M23.22  \n",
       "160                  0.0                 1.8  M40.49  \n",
       "56                  -2.7                 4.3  M94.26  \n",
       "171                -10.6                 3.1  M99.95  \n",
       "\n",
       "[6 rows x 23 columns]"
      ]
     },
     "execution_count": 19,
     "metadata": {},
     "output_type": "execute_result"
    }
   ],
   "source": [
    "# Real Dataset + the ICD\n",
    "X_train_new = pd.concat([X_train_p,y_train], axis=1)\n",
    "X_train_new.sample(6)"
   ]
  },
  {
   "cell_type": "code",
   "execution_count": 20,
   "id": "4cc0bb29",
   "metadata": {},
   "outputs": [
    {
     "data": {
      "text/plain": [
       "((192, 23), (17174, 23))"
      ]
     },
     "execution_count": 20,
     "metadata": {},
     "output_type": "execute_result"
    }
   ],
   "source": [
    "# shapes\n",
    "X_train_new.shape, new_label.shape"
   ]
  },
  {
   "cell_type": "code",
   "execution_count": 21,
   "id": "dbafdf41",
   "metadata": {},
   "outputs": [
    {
     "data": {
      "text/html": [
       "<div>\n",
       "<style scoped>\n",
       "    .dataframe tbody tr th:only-of-type {\n",
       "        vertical-align: middle;\n",
       "    }\n",
       "\n",
       "    .dataframe tbody tr th {\n",
       "        vertical-align: top;\n",
       "    }\n",
       "\n",
       "    .dataframe thead th {\n",
       "        text-align: right;\n",
       "    }\n",
       "</style>\n",
       "<table border=\"1\" class=\"dataframe\">\n",
       "  <thead>\n",
       "    <tr style=\"text-align: right;\">\n",
       "      <th></th>\n",
       "      <th>F</th>\n",
       "      <th>M</th>\n",
       "      <th>(1, 15]</th>\n",
       "      <th>(15, 20]</th>\n",
       "      <th>(20, 30]</th>\n",
       "      <th>(30, 40]</th>\n",
       "      <th>(40, 50]</th>\n",
       "      <th>(50, 60]</th>\n",
       "      <th>(60, 70]</th>\n",
       "      <th>(70, 150]</th>\n",
       "      <th>...</th>\n",
       "      <th>Lotabweichung VP-DM [°]</th>\n",
       "      <th>Seitabweichung VP-DM (RMS) [mm]</th>\n",
       "      <th>Oberflächenrotation (RMS) [°]</th>\n",
       "      <th>Kyphosewinkel VP-T12 [°]</th>\n",
       "      <th>Lordosewinkel T12-DM [°]</th>\n",
       "      <th>Beckenneigung (Symmetrielinie) [°]</th>\n",
       "      <th>Beckentorsion DL-DR [°]</th>\n",
       "      <th>Beckenhochstand [°]</th>\n",
       "      <th>Beckenrotation [°]</th>\n",
       "      <th>ICD</th>\n",
       "    </tr>\n",
       "  </thead>\n",
       "  <tbody>\n",
       "    <tr>\n",
       "      <th>8063</th>\n",
       "      <td>0.0</td>\n",
       "      <td>1.0</td>\n",
       "      <td>0.0</td>\n",
       "      <td>0.0</td>\n",
       "      <td>0.0</td>\n",
       "      <td>0.0</td>\n",
       "      <td>1.0</td>\n",
       "      <td>0.0</td>\n",
       "      <td>0.0</td>\n",
       "      <td>0.0</td>\n",
       "      <td>...</td>\n",
       "      <td>0.5</td>\n",
       "      <td>2.7</td>\n",
       "      <td>2.258612</td>\n",
       "      <td>34.6</td>\n",
       "      <td>18.9</td>\n",
       "      <td>8.3</td>\n",
       "      <td>-1.4</td>\n",
       "      <td>2.7</td>\n",
       "      <td>-1.2</td>\n",
       "      <td>M54.90</td>\n",
       "    </tr>\n",
       "    <tr>\n",
       "      <th>16147</th>\n",
       "      <td>1.0</td>\n",
       "      <td>0.0</td>\n",
       "      <td>0.0</td>\n",
       "      <td>0.0</td>\n",
       "      <td>1.0</td>\n",
       "      <td>0.0</td>\n",
       "      <td>0.0</td>\n",
       "      <td>0.0</td>\n",
       "      <td>0.0</td>\n",
       "      <td>0.0</td>\n",
       "      <td>...</td>\n",
       "      <td>0.4</td>\n",
       "      <td>7.7</td>\n",
       "      <td>6.053231</td>\n",
       "      <td>38.2</td>\n",
       "      <td>35.1</td>\n",
       "      <td>18.9</td>\n",
       "      <td>3.3</td>\n",
       "      <td>1.2</td>\n",
       "      <td>0.4</td>\n",
       "      <td>M62.51</td>\n",
       "    </tr>\n",
       "    <tr>\n",
       "      <th>4429</th>\n",
       "      <td>0.0</td>\n",
       "      <td>1.0</td>\n",
       "      <td>0.0</td>\n",
       "      <td>0.0</td>\n",
       "      <td>1.0</td>\n",
       "      <td>0.0</td>\n",
       "      <td>0.0</td>\n",
       "      <td>0.0</td>\n",
       "      <td>0.0</td>\n",
       "      <td>0.0</td>\n",
       "      <td>...</td>\n",
       "      <td>-0.8</td>\n",
       "      <td>4.1</td>\n",
       "      <td>3.697850</td>\n",
       "      <td>41.4</td>\n",
       "      <td>26.7</td>\n",
       "      <td>25.1</td>\n",
       "      <td>-1.2</td>\n",
       "      <td>-2.3</td>\n",
       "      <td>-1.7</td>\n",
       "      <td>M41.20</td>\n",
       "    </tr>\n",
       "  </tbody>\n",
       "</table>\n",
       "<p>3 rows × 23 columns</p>\n",
       "</div>"
      ],
      "text/plain": [
       "         F    M  (1, 15]  (15, 20]  (20, 30]  (30, 40]  (40, 50]  (50, 60]  \\\n",
       "8063   0.0  1.0      0.0       0.0       0.0       0.0       1.0       0.0   \n",
       "16147  1.0  0.0      0.0       0.0       1.0       0.0       0.0       0.0   \n",
       "4429   0.0  1.0      0.0       0.0       1.0       0.0       0.0       0.0   \n",
       "\n",
       "       (60, 70]  (70, 150]  ...  Lotabweichung VP-DM [°]  \\\n",
       "8063        0.0        0.0  ...                      0.5   \n",
       "16147       0.0        0.0  ...                      0.4   \n",
       "4429        0.0        0.0  ...                     -0.8   \n",
       "\n",
       "       Seitabweichung VP-DM (RMS) [mm]  Oberflächenrotation (RMS) [°]  \\\n",
       "8063                               2.7                       2.258612   \n",
       "16147                              7.7                       6.053231   \n",
       "4429                               4.1                       3.697850   \n",
       "\n",
       "       Kyphosewinkel VP-T12 [°]  Lordosewinkel T12-DM [°]  \\\n",
       "8063                       34.6                      18.9   \n",
       "16147                      38.2                      35.1   \n",
       "4429                       41.4                      26.7   \n",
       "\n",
       "       Beckenneigung (Symmetrielinie) [°]  Beckentorsion DL-DR [°]  \\\n",
       "8063                                  8.3                     -1.4   \n",
       "16147                                18.9                      3.3   \n",
       "4429                                 25.1                     -1.2   \n",
       "\n",
       "       Beckenhochstand [°]  Beckenrotation [°]     ICD  \n",
       "8063                   2.7                -1.2  M54.90  \n",
       "16147                  1.2                 0.4  M62.51  \n",
       "4429                  -2.3                -1.7  M41.20  \n",
       "\n",
       "[3 rows x 23 columns]"
      ]
     },
     "execution_count": 21,
     "metadata": {},
     "output_type": "execute_result"
    }
   ],
   "source": [
    "# concate [new_label and X_train_p]\n",
    "df = pd.concat([X_train_new,new_label],ignore_index=True,)\n",
    "df.sample(3)"
   ]
  },
  {
   "cell_type": "code",
   "execution_count": 22,
   "id": "1e66a8dc",
   "metadata": {},
   "outputs": [
    {
     "name": "stdout",
     "output_type": "stream",
     "text": [
      "<class 'pandas.core.frame.DataFrame'>\n",
      "RangeIndex: 17366 entries, 0 to 17365\n",
      "Data columns (total 23 columns):\n",
      " #   Column                              Non-Null Count  Dtype  \n",
      "---  ------                              --------------  -----  \n",
      " 0   F                                   17366 non-null  float64\n",
      " 1   M                                   17366 non-null  float64\n",
      " 2   (1, 15]                             17366 non-null  float64\n",
      " 3   (15, 20]                            17366 non-null  float64\n",
      " 4   (20, 30]                            17366 non-null  float64\n",
      " 5   (30, 40]                            17366 non-null  float64\n",
      " 6   (40, 50]                            17366 non-null  float64\n",
      " 7   (50, 60]                            17366 non-null  float64\n",
      " 8   (60, 70]                            17366 non-null  float64\n",
      " 9   (70, 150]                           17366 non-null  float64\n",
      " 10  Grübchenabstand DL-DR [mm]          17366 non-null  float64\n",
      " 11  Rumpflänge VP-DM [mm]               17366 non-null  float64\n",
      " 12  Rumpfneigung VP-DM [°]              17366 non-null  float64\n",
      " 13  Lotabweichung VP-DM [°]             17366 non-null  float64\n",
      " 14  Seitabweichung VP-DM (RMS) [mm]     17366 non-null  float64\n",
      " 15  Oberflächenrotation (RMS) [°]       17366 non-null  float64\n",
      " 16  Kyphosewinkel VP-T12 [°]            17366 non-null  float64\n",
      " 17  Lordosewinkel T12-DM [°]            17366 non-null  float64\n",
      " 18  Beckenneigung (Symmetrielinie) [°]  17366 non-null  float64\n",
      " 19  Beckentorsion DL-DR [°]             17366 non-null  float64\n",
      " 20  Beckenhochstand [°]                 17366 non-null  float64\n",
      " 21  Beckenrotation [°]                  17366 non-null  float64\n",
      " 22  ICD                                 17366 non-null  object \n",
      "dtypes: float64(22), object(1)\n",
      "memory usage: 3.0+ MB\n"
     ]
    }
   ],
   "source": [
    "df.info()"
   ]
  },
  {
   "cell_type": "code",
   "execution_count": 23,
   "id": "4d32bbb5",
   "metadata": {},
   "outputs": [
    {
     "data": {
      "text/plain": [
       "(17366, 23)"
      ]
     },
     "execution_count": 23,
     "metadata": {},
     "output_type": "execute_result"
    }
   ],
   "source": [
    "# all the datasets\n",
    "df.shape"
   ]
  },
  {
   "cell_type": "code",
   "execution_count": 24,
   "id": "c754b6e1",
   "metadata": {},
   "outputs": [],
   "source": [
    "from sklearn.model_selection import train_test_split\n",
    "from sklearn.preprocessing import StandardScaler\n",
    "from sklearn.pipeline import Pipeline"
   ]
  },
  {
   "cell_type": "code",
   "execution_count": 25,
   "id": "0a4f06c3",
   "metadata": {},
   "outputs": [
    {
     "data": {
      "text/plain": [
       "((12156, 22), (12156,), (5210, 22), (5210,))"
      ]
     },
     "execution_count": 25,
     "metadata": {},
     "output_type": "execute_result"
    }
   ],
   "source": [
    "X = df.drop(labels='ICD', axis=1)\n",
    "y = df['ICD']\n",
    "# split our datasets and stratify on y (ICD)\n",
    "X_train, X_test, y_train, y_test= train_test_split(X,y, test_size=0.3, stratify=y)\n",
    "# shape of our splited datasets\n",
    "X_train.shape,y_train.shape,X_test.shape,y_test.shape"
   ]
  },
  {
   "cell_type": "code",
   "execution_count": 26,
   "id": "e985cacd",
   "metadata": {},
   "outputs": [],
   "source": [
    "# The pipeline can be used as any other estimator\n",
    "# and avoids leaking the test set into the train set\n",
    "pipe = Pipeline([('scale',StandardScaler()),('model',SVC())])"
   ]
  },
  {
   "cell_type": "code",
   "execution_count": 27,
   "id": "292273b0",
   "metadata": {},
   "outputs": [
    {
     "data": {
      "text/plain": [
       "Pipeline(steps=[('scale', StandardScaler()), ('model', SVC())])"
      ]
     },
     "execution_count": 27,
     "metadata": {},
     "output_type": "execute_result"
    }
   ],
   "source": [
    "# Training the data\n",
    "pipe.fit(X_train,y_train)"
   ]
  },
  {
   "cell_type": "code",
   "execution_count": 28,
   "id": "6fd054a1",
   "metadata": {},
   "outputs": [
    {
     "data": {
      "text/plain": [
       "0.7420345489443378"
      ]
     },
     "execution_count": 28,
     "metadata": {},
     "output_type": "execute_result"
    }
   ],
   "source": [
    "# performance \n",
    "pipe.score(X_test,y_test)"
   ]
  },
  {
   "cell_type": "code",
   "execution_count": 29,
   "id": "d22fabcd",
   "metadata": {},
   "outputs": [],
   "source": [
    "# Predict on the unseen dataset\n",
    "y_pred = pipe.predict(X_test)"
   ]
  },
  {
   "cell_type": "code",
   "execution_count": 30,
   "id": "438341c3",
   "metadata": {},
   "outputs": [
    {
     "data": {
      "text/plain": [
       "array(['M47.84', 'M51.9', 'M92.5', 'Q72.9', 'M20.1', 'M25.56', 'M62.91',\n",
       "       'M19.95', 'M25.51', 'M76.6'], dtype=object)"
      ]
     },
     "execution_count": 30,
     "metadata": {},
     "output_type": "execute_result"
    }
   ],
   "source": [
    "y_pred[:10]"
   ]
  },
  {
   "cell_type": "code",
   "execution_count": 31,
   "id": "865afded",
   "metadata": {},
   "outputs": [],
   "source": [
    "# Evaluation of our trained model\n",
    "from sklearn.metrics import accuracy_score, confusion_matrix"
   ]
  },
  {
   "cell_type": "code",
   "execution_count": 32,
   "id": "b1f44868",
   "metadata": {},
   "outputs": [
    {
     "data": {
      "text/plain": [
       "Index(['F', 'M', '(1, 15]', '(15, 20]', '(20, 30]', '(30, 40]', '(40, 50]',\n",
       "       '(50, 60]', '(60, 70]', '(70, 150]', 'Grübchenabstand DL-DR [mm]',\n",
       "       'Rumpflänge VP-DM [mm]', 'Rumpfneigung VP-DM [°]',\n",
       "       'Lotabweichung VP-DM [°]', 'Seitabweichung VP-DM (RMS) [mm]',\n",
       "       'Oberflächenrotation (RMS) [°]', 'Kyphosewinkel VP-T12 [°]',\n",
       "       'Lordosewinkel T12-DM [°]', 'Beckenneigung (Symmetrielinie) [°]',\n",
       "       'Beckentorsion DL-DR [°]', 'Beckenhochstand [°]', 'Beckenrotation [°]',\n",
       "       'ICD'],\n",
       "      dtype='object')"
      ]
     },
     "execution_count": 32,
     "metadata": {},
     "output_type": "execute_result"
    }
   ],
   "source": [
    "df.columns"
   ]
  },
  {
   "cell_type": "code",
   "execution_count": 33,
   "id": "3fa646d4",
   "metadata": {},
   "outputs": [
    {
     "data": {
      "text/plain": [
       "array([[ 0,  0,  0, ...,  0,  0,  0],\n",
       "       [ 0,  0,  0, ...,  0,  0,  0],\n",
       "       [ 0,  0,  0, ...,  0,  0,  0],\n",
       "       ...,\n",
       "       [ 0,  0,  0, ..., 34,  0,  0],\n",
       "       [ 0,  0,  0, ...,  0, 44,  0],\n",
       "       [ 0,  0,  0, ...,  0,  0,  8]], dtype=int64)"
      ]
     },
     "execution_count": 33,
     "metadata": {},
     "output_type": "execute_result"
    }
   ],
   "source": [
    "cm = confusion_matrix(y_test, y_pred, labels=df.ICD)\n",
    "cm"
   ]
  },
  {
   "cell_type": "code",
   "execution_count": 34,
   "id": "d8513250",
   "metadata": {},
   "outputs": [
    {
     "name": "stdout",
     "output_type": "stream",
     "text": [
      "Accuracy Score: 74.20345489443379\n"
     ]
    }
   ],
   "source": [
    "# accuracy score\n",
    "print(f'Accuracy Score: {accuracy_score(y_test, y_pred)* 100}')"
   ]
  },
  {
   "cell_type": "code",
   "execution_count": 35,
   "id": "c2d0f7cc",
   "metadata": {},
   "outputs": [],
   "source": [
    "# import visualization lib\n",
    "import matplotlib.pyplot as plt\n",
    "import seaborn as sns\n",
    "from sklearn.metrics import plot_confusion_matrix"
   ]
  },
  {
   "cell_type": "code",
   "execution_count": 36,
   "id": "990777ee",
   "metadata": {},
   "outputs": [],
   "source": [
    "# plot the confusiom metrix\n",
    "# plt.figure(figsize = (20,15))\n",
    "# plot_confusion_matrix(pipe,X_test,y_test)\n",
    "# plt.show()\n",
    "# sns.heatmap(cm, annot=True)"
   ]
  },
  {
   "cell_type": "code",
   "execution_count": null,
   "id": "5210190e",
   "metadata": {},
   "outputs": [],
   "source": []
  }
 ],
 "metadata": {
  "kernelspec": {
   "display_name": "Python 3",
   "language": "python",
   "name": "python3"
  },
  "language_info": {
   "codemirror_mode": {
    "name": "ipython",
    "version": 3
   },
   "file_extension": ".py",
   "mimetype": "text/x-python",
   "name": "python",
   "nbconvert_exporter": "python",
   "pygments_lexer": "ipython3",
   "version": "3.8.8"
  }
 },
 "nbformat": 4,
 "nbformat_minor": 5
}
