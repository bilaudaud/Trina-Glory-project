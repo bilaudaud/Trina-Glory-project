{
 "cells": [
  {
   "cell_type": "markdown",
   "id": "18c1181a",
   "metadata": {},
   "source": [
    "# Unsupervised Machine Learning Implementation Plans <br>\n",
    "Author: Dauda Bilau A. <br>\n",
    "Date: September 28, 2021 <br>\n",
    "Recipient: Trina Glory. <br>\n",
    "\n",
    "Since the most important step in a semi-supervised learning problem is getting the data ready\n",
    "(turning it into numbers), that's what we're going to start with.\n",
    "\n",
    "We're going to go through the following implementation workflow:\n",
    "\n",
    "<img src=\"../images/ml101-6-step-ml-framework.png\" width=500/>\n",
    "<hr>\n",
    "\n",
    "    1. Get data ready. (Provide the data ready from the Doctor or give permissions on how to\n",
    "         access it)\n",
    "         This data might come is structure or unstructured format (csv, excel, json, jpg, pdf). In\n",
    "         any machine learning project, no matter the format of the data, we need to convert it\n",
    "         into numbers so the machine can understand. Since most machine learning algorithm\n",
    "         are built on core mathematics.\n",
    "\n",
    "    2. Prepare the data. (preprocessing, the sets, X & y)\n",
    "         For preprocessing our data, we're going to use the latest version of Scikit-learn\n",
    "         preprocessing libraries. The whole premise here is to get our data into Tensors (arrays of\n",
    "         numbers which can be run on GPUs) and then allow a machine learning model to find\n",
    "         patterns between them. This is where I will need you and I to work together. We need\n",
    "         to prepare the data before feeding our model. Feature engineering is very important\n",
    "         here. Like I said, I am not in the Health line. I will need someone who could interpret\n",
    "         things to me. This process takes time and this is where most work is done.\n",
    "\n",
    "    3. Choose and fit/train a model (Sklearn, TensorFlow Hub, tf.keras.applications,\n",
    "         TensorBoard, EarlyStopping, Jupyter Notebook, Jupyter Lab).\n",
    "         For our machine learning model, we're going to be using a pretrained machine learning\n",
    "         model from Scikit-Learn. There are several models available for us to make use. The\n",
    "         Scikit learn organizations has provided many machine learning models for us. We will try\n",
    "         several models and we go for the one that gives is the best result. Better still, we could\n",
    "         create a pipeline of several models.\n",
    "\n",
    "    4. Evaluating a model (making predictions, comparing them with the ground truth labels).\n",
    "         This is where we test our implemented model if it can work on data it hasn’t seen\n",
    "         before.\n",
    "\n",
    "    5. Improve the model through experimentation (start with 1000 or more datasets, make\n",
    "         sure it works, increase the number of data if possible).\n",
    "\n",
    "    6. Save, sharing and reloading your model (once you're happy with the results). Essential\n",
    "libraries needed are (Joblib, pickle)\n",
    "\n",
    "<hr>\n",
    "\n",
    "To work through these `PROJECT`, we'll use pandas, Matplotlib and NumPy for data anaylsis, as well as, Scikit-Learn for machine learning and modelling tasks.\n",
    "\n",
    "<img src=\"../images/supervised-projects-6-step-ml-framework-tools-highlight.png\" width=500/> \n",
    "\n",
    "Tools which can be used for each step of the machine learning modelling process. \n",
    "\n",
    "We'll have a trained machine learning model which predicts?????"
   ]
  },
  {
   "cell_type": "code",
   "execution_count": null,
   "id": "6cf83803",
   "metadata": {},
   "outputs": [],
   "source": []
  },
  {
   "cell_type": "code",
   "execution_count": null,
   "id": "30474b75",
   "metadata": {},
   "outputs": [],
   "source": []
  },
  {
   "cell_type": "code",
   "execution_count": null,
   "id": "05bb3446",
   "metadata": {},
   "outputs": [],
   "source": []
  },
  {
   "cell_type": "code",
   "execution_count": null,
   "id": "62c4e3a9",
   "metadata": {},
   "outputs": [],
   "source": []
  },
  {
   "cell_type": "markdown",
   "id": "8adb58ee",
   "metadata": {},
   "source": [
    "<center>All Rights Reserved"
   ]
  }
 ],
 "metadata": {
  "kernelspec": {
   "display_name": "Python 3",
   "language": "python",
   "name": "python3"
  },
  "language_info": {
   "codemirror_mode": {
    "name": "ipython",
    "version": 3
   },
   "file_extension": ".py",
   "mimetype": "text/x-python",
   "name": "python",
   "nbconvert_exporter": "python",
   "pygments_lexer": "ipython3",
   "version": "3.8.8"
  }
 },
 "nbformat": 4,
 "nbformat_minor": 5
}
